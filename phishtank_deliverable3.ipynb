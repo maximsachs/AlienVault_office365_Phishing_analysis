{
  "nbformat": 4,
  "nbformat_minor": 0,
  "metadata": {
    "colab": {
      "name": "phishtank_deliverable3.ipynb",
      "provenance": [],
      "collapsed_sections": [],
      "authorship_tag": "ABX9TyPYy48/d2mny16JEAUBPaDg",
      "include_colab_link": true
    },
    "kernelspec": {
      "name": "python3",
      "display_name": "Python 3"
    },
    "accelerator": "GPU"
  },
  "cells": [
    {
      "cell_type": "markdown",
      "metadata": {
        "id": "view-in-github",
        "colab_type": "text"
      },
      "source": [
        "<a href=\"https://colab.research.google.com/github/maximsachs/AlienVault_office365_Phishing_analysis/blob/master/phishtank_deliverable3.ipynb\" target=\"_parent\"><img src=\"https://colab.research.google.com/assets/colab-badge.svg\" alt=\"Open In Colab\"/></a>"
      ]
    },
    {
      "cell_type": "code",
      "metadata": {
        "id": "_leV1FyAi_xu",
        "outputId": "2e315f9f-9e94-41b8-a17a-1dc64517e014",
        "colab": {
          "base_uri": "https://localhost:8080/",
          "height": 391
        }
      },
      "source": [
        "!wget https://raw.githubusercontent.com/maximsachs/AlienVault_office365_Phishing_analysis/master/Phishing_Detection_AI/combined_online_valid.csv\n",
        "!wget https://raw.githubusercontent.com/maximsachs/AlienVault_office365_Phishing_analysis/master/Phishing_Detection_AI/top-1m_umbrella.csv"
      ],
      "execution_count": 1,
      "outputs": [
        {
          "output_type": "stream",
          "text": [
            "--2020-10-22 16:04:25--  https://raw.githubusercontent.com/maximsachs/AlienVault_office365_Phishing_analysis/master/Phishing_Detection_AI/combined_online_valid.csv\n",
            "Resolving raw.githubusercontent.com (raw.githubusercontent.com)... 151.101.0.133, 151.101.64.133, 151.101.128.133, ...\n",
            "Connecting to raw.githubusercontent.com (raw.githubusercontent.com)|151.101.0.133|:443... connected.\n",
            "HTTP request sent, awaiting response... 200 OK\n",
            "Length: 4019565 (3.8M) [text/plain]\n",
            "Saving to: ‘combined_online_valid.csv’\n",
            "\n",
            "combined_online_val 100%[===================>]   3.83M  14.9MB/s    in 0.3s    \n",
            "\n",
            "2020-10-22 16:04:25 (14.9 MB/s) - ‘combined_online_valid.csv’ saved [4019565/4019565]\n",
            "\n",
            "--2020-10-22 16:04:25--  https://raw.githubusercontent.com/maximsachs/AlienVault_office365_Phishing_analysis/master/Phishing_Detection_AI/top-1m_umbrella.csv\n",
            "Resolving raw.githubusercontent.com (raw.githubusercontent.com)... 151.101.0.133, 151.101.64.133, 151.101.128.133, ...\n",
            "Connecting to raw.githubusercontent.com (raw.githubusercontent.com)|151.101.0.133|:443... connected.\n",
            "HTTP request sent, awaiting response... 200 OK\n",
            "Length: 28869301 (28M) [text/plain]\n",
            "Saving to: ‘top-1m_umbrella.csv’\n",
            "\n",
            "top-1m_umbrella.csv 100%[===================>]  27.53M  44.3MB/s    in 0.6s    \n",
            "\n",
            "2020-10-22 16:04:26 (44.3 MB/s) - ‘top-1m_umbrella.csv’ saved [28869301/28869301]\n",
            "\n"
          ],
          "name": "stdout"
        }
      ]
    },
    {
      "cell_type": "code",
      "metadata": {
        "id": "oFEIEjGYjLiL"
      },
      "source": [
        "import pandas as pd\n",
        "import numpy as np\n",
        "from collections import defaultdict\n",
        "import pprint\n",
        "import urllib.request\n",
        "from prettytable import PrettyTable\n",
        "import matplotlib.pyplot as plt\n",
        "from sklearn.model_selection import train_test_split\n",
        "import tensorflow as tf\n",
        "from tensorflow.keras.preprocessing import sequence\n",
        "from tqdm import tqdm\n"
      ],
      "execution_count": 2,
      "outputs": []
    },
    {
      "cell_type": "code",
      "metadata": {
        "id": "5AHX9E8pjB1o"
      },
      "source": [
        "online_valid_df = pd.read_csv(\"combined_online_valid.csv\", index_col=0)\n",
        "whitelist_file_umbrella = \"top-1m_umbrella.csv\"\n",
        "alexa_whitelist_df = pd.read_csv(whitelist_file_umbrella, header=None, names=[\"rank\", \"domain_names\"])"
      ],
      "execution_count": 3,
      "outputs": []
    },
    {
      "cell_type": "markdown",
      "metadata": {
        "id": "CtxdTUFxjuXR"
      },
      "source": [
        "\n",
        "\n",
        "---\n",
        "\n",
        "# Analysing http vs https\n"
      ]
    },
    {
      "cell_type": "code",
      "metadata": {
        "id": "Xi8K6i1ej1aF",
        "outputId": "318e1133-44c3-4987-b5c2-5fe6f4f54ea4",
        "colab": {
          "base_uri": "https://localhost:8080/",
          "height": 34
        }
      },
      "source": [
        "protocol_count = defaultdict(lambda: 0)\n",
        "for index, row in online_valid_df.iterrows():\n",
        "  # Checking if first 5 elements of the url match https\n",
        "  if \"https\" in row[\"url\"][:6]:\n",
        "    protocol_count[\"https\"] += 1\n",
        "  # else checking if its just http:\n",
        "  elif \"http:\" in row[\"url\"][:6]:\n",
        "    protocol_count[\"http\"] += 1\n",
        "  # otherwise its some random other thing.\n",
        "  else:\n",
        "    protocol = row[\"url\"].split(\":\")[0]\n",
        "    protocol_count[protocol] += 1\n",
        "\n",
        "pprint.pprint(dict(protocol_count))"
      ],
      "execution_count": 4,
      "outputs": [
        {
          "output_type": "stream",
          "text": [
            "{'http': 8755, 'https': 10077}\n"
          ],
          "name": "stdout"
        }
      ]
    },
    {
      "cell_type": "markdown",
      "metadata": {
        "id": "ql4nkyK0mFCm"
      },
      "source": [
        "\n",
        "\n",
        "---\n",
        "\n",
        "# Analysing top level domains"
      ]
    },
    {
      "cell_type": "code",
      "metadata": {
        "id": "EVxpOQ0MjdoE",
        "outputId": "f6aeece3-8767-450e-cd6c-0d40ec3c3a64",
        "colab": {
          "base_uri": "https://localhost:8080/",
          "height": 496
        }
      },
      "source": [
        "# Extracting tld and domain name.\n",
        "tld_count = defaultdict(lambda: 0)\n",
        "domain_names = []\n",
        "for index, row in online_valid_df.iterrows():\n",
        "    # Extracting the tld from the url\n",
        "    domain_name = row[\"url\"].replace(\"https://\",\"\").replace(\"http://\",\"\").split(\"/\")[0]\n",
        "    domain_names.append(domain_name)\n",
        "    tld = domain_name.split(\".\")[-1]\n",
        "    tld_count[tld] += 1\n",
        "\n",
        "tld_df = pd.Series(dict(tld_count))\n",
        "tld_df.sort_values(ascending=False, inplace=True)\n",
        "\n",
        "show_top_n = 20\n",
        "\n",
        "tld_print = tld_df.iloc[:show_top_n]\n",
        "tld_print[\"OTHERS\"] = tld_df.iloc[show_top_n:].sum()\n",
        "\n",
        "online_valid_df[\"domain_names\"] = domain_names\n",
        "\n",
        "\n",
        "whitelist_file_alexa = \"top-1m_alexa.csv\"\n",
        "whitelist_file_umbrella = \"top-1m_umbrella.csv\"\n",
        "alexa_whitelist_df = pd.read_csv(whitelist_file_umbrella, header=None, names=[\"rank\", \"domain_names\"])\n",
        "\n",
        "# Finding if there are any domains that are also in the whitelist.\n",
        "domains_in_whitelist = np.intersect1d(online_valid_df[\"domain_names\"], alexa_whitelist_df[\"domain_names\"])\n",
        "# Tagging the whitelisted domains as such.\n",
        "online_valid_df[\"in_whitelist\"] = np.in1d(online_valid_df[\"domain_names\"], domains_in_whitelist)\n",
        "\n",
        "print(online_valid_df.shape[0], \"rows\")\n",
        "print(online_valid_df.head(20).to_string())\n",
        "print(tld_print.to_frame(name=\"TLD Count\").transpose().to_string())\n",
        "print(f\"Percentage of top {show_top_n} tlds: {np.round(100*tld_df.iloc[:show_top_n].sum()/tld_df.sum(), decimals=2)} %\")\n",
        "print()\n",
        "print(\"Number of urls that have domains which are in the whilelist:\", online_valid_df[\"in_whitelist\"].sum())\n",
        "\n",
        "# For the analysis, excluding all where the domain name is in the whitelist.\n",
        "\n",
        "online_valid_df_without_intersection = online_valid_df.loc[online_valid_df['in_whitelist'] == False]\n",
        "alexa_whitelist_df_without_intersection = alexa_whitelist_df.loc[np.invert(alexa_whitelist_df['domain_names'].isin(domains_in_whitelist))]"
      ],
      "execution_count": 5,
      "outputs": [
        {
          "output_type": "stream",
          "text": [
            "18832 rows\n",
            "                                                                                                                                                                                   url                                            phish_detail_url            submission_time verified          verification_time online     target                                                     domain_names  in_whitelist\n",
            "0                                                                                                                                          https://mise-a-jour-orange7.webnode.com.co/  http://www.phishtank.com/phish_detail.php?phish_id=6800831  2020-10-08T12:04:27+00:00      yes  2020-10-08T12:09:47+00:00    yes      Other                               mise-a-jour-orange7.webnode.com.co         False\n",
            "1                                                                                                                       https://rubysoap.hk/serv/fatturazione-staff/home/z0n51/lod.php  http://www.phishtank.com/phish_detail.php?phish_id=6800822  2020-10-08T11:58:28+00:00      yes  2020-10-08T12:00:18+00:00    yes      Other                                                      rubysoap.hk         False\n",
            "2                                                                                                                 https://rubysoap.hk/serv/fatturazione-staff/home/z0n51/fatturazione/  http://www.phishtank.com/phish_detail.php?phish_id=6800821  2020-10-08T11:58:14+00:00      yes  2020-10-08T12:00:18+00:00    yes      Other                                                      rubysoap.hk         False\n",
            "3                                                                                                                                            https://jchfhygcnrfjntrvhretj.weebly.com/  http://www.phishtank.com/phish_detail.php?phish_id=6800813  2020-10-08T11:45:37+00:00      yes  2020-10-08T11:56:42+00:00    yes      Other                                 jchfhygcnrfjntrvhretj.weebly.com         False\n",
            "4                                                                                                                                                  https://attmmaileailbox.weebly.com/  http://www.phishtank.com/phish_detail.php?phish_id=6800806  2020-10-08T11:44:55+00:00      yes  2020-10-08T11:53:04+00:00    yes      Other                                       attmmaileailbox.weebly.com         False\n",
            "5                                                                                                                                                       https://career-att.weebly.com/  http://www.phishtank.com/phish_detail.php?phish_id=6800805  2020-10-08T11:44:46+00:00      yes  2020-10-08T11:51:36+00:00    yes      Other                                            career-att.weebly.com         False\n",
            "6                             https://melhores-destaques-de-precos-baixos.com/produtos/783547416/?conjunto-de-panela-antiaderente-turin-10-peças-vermelha-tramontina&skullid=254858284  http://www.phishtank.com/phish_detail.php?phish_id=6800797  2020-10-08T11:30:24+00:00      yes  2020-10-08T11:38:32+00:00    yes      Other                          melhores-destaques-de-precos-baixos.com         False\n",
            "7                                                                                                                                                          https://r-amazon.top/enavi/  http://www.phishtank.com/phish_detail.php?phish_id=6800786  2020-10-08T11:13:34+00:00      yes  2020-10-08T11:19:49+00:00    yes      Other                                                     r-amazon.top         False\n",
            "8   https://grow.ucidity.com/HGD/cmd-login=775e967f814116889dfd1e9c545561b7/index.php?email=abuse@ionos.com&loginpage=mail.ionos.com/&reff=YjRhYjY4NWYxM2Y3NTc0ODE0MWFhNWRmMDdkMTFhYjA  http://www.phishtank.com/phish_detail.php?phish_id=6800785  2020-10-08T11:13:29+00:00      yes  2020-10-08T11:18:22+00:00    yes      Other                                                 grow.ucidity.com         False\n",
            "9                                                                                                                                      https://owas.surveysparrow.com/s/jrx/tt-f4620c?  http://www.phishtank.com/phish_detail.php?phish_id=6800754  2020-10-08T10:28:52+00:00      yes  2020-10-08T10:35:46+00:00    yes      Other                                           owas.surveysparrow.com         False\n",
            "10                                                                                                             http://vvvvvv.amazcn.co.jp-ce24fdb6b628b008fd45b60ce3d15dd264d9388e.ph/  http://www.phishtank.com/phish_detail.php?phish_id=6800744  2020-10-08T10:07:04+00:00      yes  2020-10-08T11:32:01+00:00    yes      Other  vvvvvv.amazcn.co.jp-ce24fdb6b628b008fd45b60ce3d15dd264d9388e.ph         False\n",
            "11                                                                                                                                                       https://uk.myee1921.com/?ee=2  http://www.phishtank.com/phish_detail.php?phish_id=6800716  2020-10-08T09:52:52+00:00      yes  2020-10-08T09:59:12+00:00    yes      Other                                                  uk.myee1921.com         False\n",
            "12                                                                                                                                           http://logomine.co/address_on_envelope/dh  http://www.phishtank.com/phish_detail.php?phish_id=6800714  2020-10-08T09:51:12+00:00      yes  2020-10-08T09:57:45+00:00    yes      Other                                                      logomine.co         False\n",
            "13                                                                                                                                          http://logomine.co/address_on_envelope/dh/  http://www.phishtank.com/phish_detail.php?phish_id=6800715  2020-10-08T09:51:12+00:00      yes  2020-10-08T09:57:45+00:00    yes      Other                                                      logomine.co         False\n",
            "14                                                                                                                                          https://galvestoncm.org/consumers/what-is/  http://www.phishtank.com/phish_detail.php?phish_id=6800711  2020-10-08T09:50:12+00:00      yes  2020-10-08T09:55:36+00:00    yes      Other                                                  galvestoncm.org         False\n",
            "15                                                                                                https://0987368238983983499-secondary.z6.web.core.windows.net/support@swiftpants.com  http://www.phishtank.com/phish_detail.php?phish_id=6800705  2020-10-08T09:35:01+00:00      yes  2020-10-08T09:38:59+00:00    yes      Other            0987368238983983499-secondary.z6.web.core.windows.net         False\n",
            "16                                                                                                                                                                  https://powbot.org  http://www.phishtank.com/phish_detail.php?phish_id=6800692  2020-10-08T09:17:24+00:00      yes  2020-10-08T09:21:04+00:00    yes  RuneScape                                                       powbot.org         False\n",
            "17                                                                                                                                                       https://powbot.org/community/  http://www.phishtank.com/phish_detail.php?phish_id=6800691  2020-10-08T09:17:16+00:00      yes  2020-10-08T09:21:04+00:00    yes  RuneScape                                                       powbot.org         False\n",
            "18                                                                                                               http://www2.amozon.co.jp-ce24fdb6b628b008fd45b60ce3d15dd264d9388e.ph/  http://www.phishtank.com/phish_detail.php?phish_id=6800689  2020-10-08T09:09:47+00:00      yes  2020-10-08T09:14:32+00:00    yes      Other    www2.amozon.co.jp-ce24fdb6b628b008fd45b60ce3d15dd264d9388e.ph         False\n",
            "19                                                                                                                                                        https://eventpubgtencent.com  http://www.phishtank.com/phish_detail.php?phish_id=6800687  2020-10-08T09:04:21+00:00      yes  2020-10-08T09:06:34+00:00    yes      Other                                             eventpubgtencent.com         False\n",
            "             com   ru  net  org   br   uk  top  xyz   in   id  link  info   cn   cc   io   ly   de  app   it   co  OTHERS\n",
            "TLD Count  10897  862  646  401  325  294  223  205  203  161   159   157  139  137  137  133  124  120  118  111    3280\n",
            "Percentage of top 20 tlds: 82.58 %\n",
            "\n",
            "Number of urls that have domains which are in the whilelist: 1378\n"
          ],
          "name": "stdout"
        }
      ]
    },
    {
      "cell_type": "markdown",
      "metadata": {
        "id": "6I99l8ThnjLF"
      },
      "source": [
        "\n",
        "\n",
        "---\n",
        "\n",
        "# Target Company\n"
      ]
    },
    {
      "cell_type": "code",
      "metadata": {
        "id": "Mqh6tlRVnmtL",
        "outputId": "ce30ac92-4a81-46ab-941b-597bcdccbc80",
        "colab": {
          "base_uri": "https://localhost:8080/",
          "height": 323
        }
      },
      "source": [
        "# First analysing the targets as they are in the raw dataset.\n",
        "# Calculating target counts\n",
        "target_counts = online_valid_df[\"target\"].value_counts()\n",
        "target_counts[\"unidentified\"] = target_counts.pop(\"Other\")\n",
        "target_counts.sort_values(inplace=True, ascending=False)\n",
        "show_top_n = 15\n",
        "targets_print = target_counts.iloc[:show_top_n]\n",
        "targets_print[\"OTHERS\"] = target_counts.iloc[show_top_n:].sum()\n",
        "print(targets_print.to_frame(name=\"Target Count\").to_string())\n",
        "print(np.round(100*(targets_print[\"unidentified\"]/online_valid_df.shape[0]), decimals=2), \"% of targets are unidentified.\")"
      ],
      "execution_count": 6,
      "outputs": [
        {
          "output_type": "stream",
          "text": [
            "                          Target Count\n",
            "unidentified                     15776\n",
            "RuneScape                          492\n",
            "PayPal                             443\n",
            "eBay, Inc.                         305\n",
            "Facebook                           293\n",
            "Halifax                            245\n",
            "Microsoft                          222\n",
            "Amazon.com                         132\n",
            "Google                              77\n",
            "Virustotal                          68\n",
            "Internal Revenue Service            49\n",
            "Orange                              49\n",
            "HSBC Group                          44\n",
            "Lloyds Bank                         39\n",
            "ABSA Bank                           37\n",
            "OTHERS                             561\n",
            "83.77 % of targets are unidentified.\n"
          ],
          "name": "stdout"
        }
      ]
    },
    {
      "cell_type": "markdown",
      "metadata": {
        "id": "LX1KiLDdhIPW"
      },
      "source": [
        "\n",
        "\n",
        "---\n",
        "\n",
        "# Heuristics and Rule Implementation\n"
      ]
    },
    {
      "cell_type": "code",
      "metadata": {
        "id": "30UTnZFig_dN",
        "outputId": "4b122b19-751e-423f-d753-dbd5c4734330",
        "colab": {
          "base_uri": "https://localhost:8080/",
          "height": 51
        }
      },
      "source": [
        "# Heuristics\n",
        "# Each heuristic returns 1 if phishing was detected, and returns 0 if not phishing.\n",
        "# Heuristics required for rules 2,4,5,6,7:\n",
        "# Number of slashes >= 5 , implemented\n",
        "# Special charaters = yes , implemented\n",
        "# Transport layer security = http , implemented\n",
        "# Top level domain = yes , implemented\n",
        "# Length of host >= 75 , implemented\n",
        "# Number of terms in host > 4 , implemented\n",
        "# Length of url >= 75 , implemented\n",
        "# Unicode in URL = yes, implemented\n",
        "# Dots in hostname of url > 4 , implemented\n",
        "# subdomain = yes , implemented\n",
        "\n",
        "# All other heuristics are not implememented because not used in any predictive apriori rule.\n",
        "\n",
        "# importing the string module\n",
        "import string\n",
        "\n",
        "\n",
        "def heuristic_1_len_host(domain_name, threshold=75):\n",
        "  \"\"\"\n",
        "  Decides if phishing based on the length of the domain name (host).\n",
        "  Threshold, below this number returns not phishing.\n",
        "  \"\"\"\n",
        "  if len(domain_name) > threshold:\n",
        "    return 1\n",
        "  return 0\n",
        "\n",
        "def heuristic_2_slashes_url(url, threshold=5):\n",
        "  \"\"\"\n",
        "  Number of slash in url >= 5 then phishing.\n",
        "  \"\"\"\n",
        "  if url.count(\"/\") >= threshold:\n",
        "    return 1\n",
        "  return 0\n",
        "\n",
        "def heuristic_3_dots_host(domain_name, threshold=4):\n",
        "  \"\"\"\n",
        "  Number of dots in host > 4 then phishing.\n",
        "  \"\"\"\n",
        "  if domain_name.count(\".\") > threshold:\n",
        "    return 1\n",
        "  return 0\n",
        "\n",
        "def heuristic_4_terms_host(domain_name, threshold=4):\n",
        "  \"\"\"\n",
        "  Number of terms in host > 4 then phishing.\n",
        "  Terms are assumed to be separated by .\n",
        "  \"\"\"\n",
        "  if domain_name.count(\".\")+1 > threshold:\n",
        "    return 1\n",
        "  return 0\n",
        "\n",
        "def heuristic_5_specialchar_host(domain_name):\n",
        "  \"\"\"\n",
        "  If special characters in host then phishing.\n",
        "  The special characters used in the heuristic are not well defined.\n",
        "  Therefore using all special characters except . (This is used to separate domains in host)\n",
        "  !\"#$%&'()*+,-./:;<=>?@[\\]^_`{|}~\n",
        "  \"\"\"\n",
        "  # special characters\n",
        "  special_chars = string.punctuation\n",
        "  # print(special_chars)\n",
        "  special_chars = special_chars.replace(\".\", \"\")\n",
        "  return int(any(list(map(lambda char: char in special_chars, domain_name))))\n",
        "\n",
        "def heuristic_7_unicode_in_url(url):\n",
        "  \"\"\"\n",
        "  Checks if any unicode characters are used in the URL then phishing.\n",
        "  In python conversion to ascii fails if unicode characters are present.\n",
        "  \"\"\"\n",
        "  try:\n",
        "    url.encode('ascii', 'strict')\n",
        "    return 0\n",
        "  except:\n",
        "    return 1\n",
        "\n",
        "def heuristic_8_tls_url(url):\n",
        "  \"\"\"\n",
        "  If http is used then phishing.\n",
        "  \"\"\"\n",
        "  if \"https\" in url[:6]:\n",
        "    return 0\n",
        "  else:\n",
        "    return 1\n",
        "\n",
        "def heuristic_9_subdomain_host(domain_name):\n",
        "  \"\"\"\n",
        "  Returns 1 if a subdomain is used in the domain_name.\n",
        "  Subdomain is separated from the domain using a dot. \n",
        "  And there is 1 dot for the TLD. Making use of the dot counting heuristic.\n",
        "  \"\"\"\n",
        "  return heuristic_3_dots_host(domain_name, threshold=1)\n",
        "\n",
        "def heuristic_11_TLD_host(domain_name):\n",
        "  \"\"\"\n",
        "  Returns 1 if the domain name contains no TLD.\n",
        "  Since the samples are all valid internet addresses they must include a TLD to be reachable.\n",
        "  There is at least 1 dot for the TLD. Making use of the dot counting heuristic.\n",
        "  \"\"\"\n",
        "  return heuristic_3_dots_host(domain_name, threshold=0)\n",
        "\n",
        "def heuristic_14_len_url(url, threshold=75):\n",
        "  \"\"\"\n",
        "  Decides if phishing based on the length of the url.\n",
        "  Threshold, below this number returns not phishing.\n",
        "  \"\"\"\n",
        "  if len(url) > threshold:\n",
        "    return 1\n",
        "  return 0\n",
        "\n",
        "test_url = online_valid_df_without_intersection[\"url\"][10]\n",
        "# test_url = \"asdf\"\n",
        "print(test_url)\n",
        "heuristic_8_tls_url(test_url)"
      ],
      "execution_count": 7,
      "outputs": [
        {
          "output_type": "stream",
          "text": [
            "http://vvvvvv.amazcn.co.jp-ce24fdb6b628b008fd45b60ce3d15dd264d9388e.ph/\n"
          ],
          "name": "stdout"
        },
        {
          "output_type": "execute_result",
          "data": {
            "text/plain": [
              "1"
            ]
          },
          "metadata": {
            "tags": []
          },
          "execution_count": 7
        }
      ]
    },
    {
      "cell_type": "code",
      "metadata": {
        "id": "ttC8YuDYhNg9"
      },
      "source": [
        "# Rules\n",
        "# Implementing apriori rules 3, 4, 5, 6\n",
        "\n",
        "def apriori_rule_3(url, domain_name):\n",
        "  if heuristic_5_specialchar_host(domain_name) and heuristic_8_tls_url(url) and heuristic_4_terms_host(domain_name, threshold=4):\n",
        "    return 1\n",
        "  else:\n",
        "    return 0\n",
        "\n",
        "def apriori_rule_4(url, domain_name):\n",
        "  if heuristic_3_dots_host(domain_name, threshold=4) and heuristic_8_tls_url(url) and heuristic_4_terms_host(domain_name, threshold=4):\n",
        "    return 1\n",
        "  else:\n",
        "    return 0\n",
        "\n",
        "def apriori_rule_5(url, domain_name):\n",
        "  if heuristic_2_slashes_url(url, threshold=5) and heuristic_3_dots_host(domain_name, threshold=4) and heuristic_14_len_url(url, threshold=75):\n",
        "    return 1\n",
        "  else:\n",
        "    return 0\n",
        "\n",
        "def apriori_rule_6(url, domain_name):\n",
        "  if heuristic_5_specialchar_host(domain_name) and heuristic_8_tls_url(url) and heuristic_11_TLD_host(domain_name):\n",
        "    return 1\n",
        "  else:\n",
        "    return 0\n",
        "  \n",
        "\n",
        "# Implementing predictive apriori rules 2,4,5,6,7 The other rules are not evelatued because heuristic 10 keywords in path of url is not sufficiently described to be reproduced.\n",
        "def predictive_apriori_rule_2(url, domain_name):\n",
        "  if heuristic_2_slashes_url(url, threshold=5) and heuristic_7_unicode_in_url(url) and heuristic_8_tls_url(url) and heuristic_14_len_url(url, threshold=75):\n",
        "    return 1\n",
        "  else:\n",
        "    return 0\n",
        "\n",
        "def predictive_apriori_rule_4(url, domain_name):\n",
        "  if heuristic_2_slashes_url(url, threshold=5) and heuristic_5_specialchar_host(domain_name) and heuristic_7_unicode_in_url(url) and heuristic_11_TLD_host(domain_name) and heuristic_14_len_url(url, threshold=75):\n",
        "    return 1\n",
        "  else:\n",
        "    return 0\n",
        "\n",
        "def predictive_apriori_rule_5(url, domain_name):\n",
        "  if heuristic_2_slashes_url(url, threshold=5) and heuristic_3_dots_host(domain_name, threshold=4) and heuristic_5_specialchar_host(domain_name) and heuristic_7_unicode_in_url(url) and heuristic_11_TLD_host(domain_name):\n",
        "    return 1\n",
        "  else:\n",
        "    return 0\n",
        "\n",
        "def predictive_apriori_rule_6(url, domain_name):\n",
        "  if heuristic_2_slashes_url(url, threshold=5) and heuristic_3_dots_host(domain_name, threshold=4) and heuristic_5_specialchar_host(domain_name) and heuristic_14_len_url(url, threshold=75):\n",
        "    return 1\n",
        "  else:\n",
        "    return 0\n",
        "\n",
        "def predictive_apriori_rule_7(url, domain_name):\n",
        "  if heuristic_5_specialchar_host(domain_name) and heuristic_9_subdomain_host(domain_name) and heuristic_4_terms_host(domain_name):\n",
        "    return 1\n",
        "  else:\n",
        "    return 0"
      ],
      "execution_count": 8,
      "outputs": []
    },
    {
      "cell_type": "markdown",
      "metadata": {
        "id": "pp1x5ZgK2A8C"
      },
      "source": [
        "\n",
        "\n",
        "---\n",
        "# Rule evaluation\n"
      ]
    },
    {
      "cell_type": "code",
      "metadata": {
        "id": "J-fbmLcb67F7"
      },
      "source": [
        "def statistics_table_printer(predictions_binary, y_binary, decimals=3):\n",
        "    # Concattenating the strings of the binary value of the prediction and the truth.\n",
        "    # First value is the prediction, second the actual label\n",
        "    # Hypothesis is: is phishing -> positive: yes phishing, negative: no phishing\n",
        "    # Then 00 would be a TN, 01 is a FP, 10 is a FN, 11 is a TP. \n",
        "    # Converting the binary outcomes to integer: 0 TN, 1 FP, 2 FN, 3 TP\n",
        "    hypothesis_tests = [int(str(label)+str(prediction), 2) for prediction, label in zip(predictions_binary, y_binary)]\n",
        "    # Counting the number of times each unique value in the tests is returned.\n",
        "    unique_elements, counts_elements = np.unique(hypothesis_tests, return_counts=True)\n",
        "    counts_elements = dict(zip(unique_elements, counts_elements))\n",
        "    outcome_labels = [\"TN\", \"FP\", \"FN\", \"TP\"]\n",
        "    evaluation_ratios_counts = dict(zip(outcome_labels, [counts_elements.get(0, 0), counts_elements.get(1, 0), counts_elements.get(2, 0), counts_elements.get(3, 0)]))\n",
        "    print(\"Evaluation counts:\", evaluation_ratios_counts)\n",
        "    try:\n",
        "        positive_predictive_value = evaluation_ratios_counts[\"TP\"]/(evaluation_ratios_counts[\"TP\"]+evaluation_ratios_counts[\"FP\"])\n",
        "    except:\n",
        "        positive_predictive_value = 0\n",
        "    try:\n",
        "        true_positive_rate = evaluation_ratios_counts[\"TP\"]/(evaluation_ratios_counts[\"TP\"]+evaluation_ratios_counts[\"FN\"])\n",
        "    except:\n",
        "        true_positive_rate = 0\n",
        "    try:\n",
        "        false_discovery_rate = evaluation_ratios_counts[\"FP\"]/(evaluation_ratios_counts[\"TP\"]+evaluation_ratios_counts[\"FP\"])\n",
        "    except:\n",
        "        false_discovery_rate = 0\n",
        "    try:\n",
        "        false_positive_rate = evaluation_ratios_counts[\"FP\"]/(evaluation_ratios_counts[\"FP\"]+evaluation_ratios_counts[\"TN\"])\n",
        "    except:\n",
        "        false_positive_rate = 0\n",
        "    try:\n",
        "        false_omission_rate = evaluation_ratios_counts[\"FN\"]/(evaluation_ratios_counts[\"TN\"]+evaluation_ratios_counts[\"FN\"])\n",
        "    except:\n",
        "        false_omission_rate = 0\n",
        "    try:\n",
        "        false_negative_rate = evaluation_ratios_counts[\"FN\"]/(evaluation_ratios_counts[\"TP\"]+evaluation_ratios_counts[\"FN\"])\n",
        "    except:\n",
        "        false_negative_rate = 0\n",
        "    try:\n",
        "        negative_predictive_value = evaluation_ratios_counts[\"TN\"]/(evaluation_ratios_counts[\"TN\"]+evaluation_ratios_counts[\"FN\"])\n",
        "    except:\n",
        "        negative_predictive_value = 0\n",
        "    try:\n",
        "        true_negative_rate = evaluation_ratios_counts[\"TN\"]/(evaluation_ratios_counts[\"TN\"]+evaluation_ratios_counts[\"FP\"])\n",
        "    except:\n",
        "        true_negative_rate = 0\n",
        "\n",
        "    t = PrettyTable([\"\", 'Is phishing', \"Not phishing\"])\n",
        "    t.add_row(['Predicted phishing', \"TP: {TP}\".format(**evaluation_ratios_counts), \"FP: {FP}\".format(**evaluation_ratios_counts)])\n",
        "    t.add_row(['', f\"PPV: {np.round(positive_predictive_value*100, decimals=decimals)}%\", f\"FDR: {np.round(false_discovery_rate*100, decimals=decimals)}%\"])\n",
        "    t.add_row(['', f\"TPR: {np.round(true_positive_rate*100, decimals=decimals)}%\", f\"FPR: {np.round(false_positive_rate*100, decimals=decimals)}%\"])\n",
        "    t.add_row(['Predicted safe', \"FN: {FN}\".format(**evaluation_ratios_counts), \"TN: {TN}\".format(**evaluation_ratios_counts)])\n",
        "    t.add_row(['', f\"FOR: {np.round(false_omission_rate*100, decimals=decimals)}%\", f\"NPV: {np.round(negative_predictive_value*100, decimals=decimals)}%\"])\n",
        "    t.add_row(['', f\"FNR: {np.round(false_negative_rate*100, decimals=decimals)}%\", f\"TNR: {np.round(true_negative_rate*100, decimals=decimals)}%\"])\n",
        "    print(t)"
      ],
      "execution_count": 9,
      "outputs": []
    },
    {
      "cell_type": "code",
      "metadata": {
        "id": "G_MnsAbZ1_w4",
        "outputId": "9c66328d-c23f-4c2b-a8ec-2647600a161a",
        "colab": {
          "base_uri": "https://localhost:8080/",
          "height": 1000
        }
      },
      "source": [
        "evaluation_rule_3 = []\n",
        "evaluation_rule_4 = []\n",
        "evaluation_rule_5 = []\n",
        "evaluation_rule_6 = []\n",
        "\n",
        "evaluation_predictive_rule_2 = []\n",
        "evaluation_predictive_rule_4 = []\n",
        "evaluation_predictive_rule_5 = []\n",
        "evaluation_predictive_rule_6 = []\n",
        "evaluation_predictive_rule_7 = []\n",
        "\n",
        "for index, row in online_valid_df_without_intersection.iterrows():\n",
        "  url, domain_name = row[\"url\"], row[\"domain_names\"]\n",
        "  evaluation_rule_3.append(apriori_rule_3(url, domain_name))\n",
        "  evaluation_rule_4.append(apriori_rule_4(url, domain_name))\n",
        "  evaluation_rule_5.append(apriori_rule_5(url, domain_name))\n",
        "  evaluation_rule_6.append(apriori_rule_6(url, domain_name))\n",
        "  evaluation_predictive_rule_2.append(predictive_apriori_rule_2(url, domain_name))\n",
        "  evaluation_predictive_rule_4.append(predictive_apriori_rule_4(url, domain_name))\n",
        "  evaluation_predictive_rule_5.append(predictive_apriori_rule_5(url, domain_name))\n",
        "  evaluation_predictive_rule_6.append(predictive_apriori_rule_6(url, domain_name))\n",
        "  evaluation_predictive_rule_7.append(predictive_apriori_rule_7(url, domain_name))\n",
        "\n",
        "# Printing the statistics about each rule. The true target should be all phishing, so target is 1\n",
        "print(\"Evaluation rule 3\")\n",
        "statistics_table_printer(evaluation_rule_3, [1]*len(evaluation_rule_3))\n",
        "print(\"Evaluation rule 4\")\n",
        "statistics_table_printer(evaluation_rule_4, [1]*len(evaluation_rule_4))\n",
        "print(\"Evaluation rule 5\")\n",
        "statistics_table_printer(evaluation_rule_5, [1]*len(evaluation_rule_5))\n",
        "print(\"Evaluation rule 6\")\n",
        "statistics_table_printer(evaluation_rule_6, [1]*len(evaluation_rule_6))\n",
        "\n",
        "print(\"Evaluation predictive rule 2\")\n",
        "statistics_table_printer(evaluation_predictive_rule_2, [1]*len(evaluation_predictive_rule_2))\n",
        "print(\"Evaluation predictive rule 4\")\n",
        "statistics_table_printer(evaluation_predictive_rule_4, [1]*len(evaluation_predictive_rule_4))\n",
        "print(\"Evaluation predictive rule 5\")\n",
        "statistics_table_printer(evaluation_predictive_rule_5, [1]*len(evaluation_predictive_rule_5))\n",
        "print(\"Evaluation predictive rule 6\")\n",
        "statistics_table_printer(evaluation_predictive_rule_6, [1]*len(evaluation_predictive_rule_6))\n",
        "print(\"Evaluation predictive rule 7\")\n",
        "statistics_table_printer(evaluation_predictive_rule_7, [1]*len(evaluation_predictive_rule_7))"
      ],
      "execution_count": 21,
      "outputs": [
        {
          "output_type": "stream",
          "text": [
            "Evaluation rule 3\n",
            "Evaluation counts: {'TN': 0, 'FP': 0, 'FN': 16799, 'TP': 655}\n",
            "+--------------------+--------------+--------------+\n",
            "|                    | Is phishing  | Not phishing |\n",
            "+--------------------+--------------+--------------+\n",
            "| Predicted phishing |   TP: 655    |    FP: 0     |\n",
            "|                    | PPV: 100.0%  |  FDR: 0.0%   |\n",
            "|                    | TPR: 3.753%  |   FPR: 0%    |\n",
            "|   Predicted safe   |  FN: 16799   |    TN: 0     |\n",
            "|                    | FOR: 100.0%  |  NPV: 0.0%   |\n",
            "|                    | FNR: 96.247% |   TNR: 0%    |\n",
            "+--------------------+--------------+--------------+\n",
            "Evaluation rule 4\n",
            "Evaluation counts: {'TN': 0, 'FP': 0, 'FN': 17287, 'TP': 167}\n",
            "+--------------------+--------------+--------------+\n",
            "|                    | Is phishing  | Not phishing |\n",
            "+--------------------+--------------+--------------+\n",
            "| Predicted phishing |   TP: 167    |    FP: 0     |\n",
            "|                    | PPV: 100.0%  |  FDR: 0.0%   |\n",
            "|                    | TPR: 0.957%  |   FPR: 0%    |\n",
            "|   Predicted safe   |  FN: 17287   |    TN: 0     |\n",
            "|                    | FOR: 100.0%  |  NPV: 0.0%   |\n",
            "|                    | FNR: 99.043% |   TNR: 0%    |\n",
            "+--------------------+--------------+--------------+\n",
            "Evaluation rule 5\n",
            "Evaluation counts: {'TN': 0, 'FP': 0, 'FN': 17403, 'TP': 51}\n",
            "+--------------------+--------------+--------------+\n",
            "|                    | Is phishing  | Not phishing |\n",
            "+--------------------+--------------+--------------+\n",
            "| Predicted phishing |    TP: 51    |    FP: 0     |\n",
            "|                    | PPV: 100.0%  |  FDR: 0.0%   |\n",
            "|                    | TPR: 0.292%  |   FPR: 0%    |\n",
            "|   Predicted safe   |  FN: 17403   |    TN: 0     |\n",
            "|                    | FOR: 100.0%  |  NPV: 0.0%   |\n",
            "|                    | FNR: 99.708% |   TNR: 0%    |\n",
            "+--------------------+--------------+--------------+\n",
            "Evaluation rule 6\n",
            "Evaluation counts: {'TN': 0, 'FP': 0, 'FN': 15126, 'TP': 2328}\n",
            "+--------------------+--------------+--------------+\n",
            "|                    | Is phishing  | Not phishing |\n",
            "+--------------------+--------------+--------------+\n",
            "| Predicted phishing |   TP: 2328   |    FP: 0     |\n",
            "|                    | PPV: 100.0%  |  FDR: 0.0%   |\n",
            "|                    | TPR: 13.338% |   FPR: 0%    |\n",
            "|   Predicted safe   |  FN: 15126   |    TN: 0     |\n",
            "|                    | FOR: 100.0%  |  NPV: 0.0%   |\n",
            "|                    | FNR: 86.662% |   TNR: 0%    |\n",
            "+--------------------+--------------+--------------+\n",
            "Evaluation predictive rule 2\n",
            "Evaluation counts: {'TN': 0, 'FP': 0, 'FN': 17439, 'TP': 15}\n",
            "+--------------------+--------------+--------------+\n",
            "|                    | Is phishing  | Not phishing |\n",
            "+--------------------+--------------+--------------+\n",
            "| Predicted phishing |    TP: 15    |    FP: 0     |\n",
            "|                    | PPV: 100.0%  |  FDR: 0.0%   |\n",
            "|                    | TPR: 0.086%  |   FPR: 0%    |\n",
            "|   Predicted safe   |  FN: 17439   |    TN: 0     |\n",
            "|                    | FOR: 100.0%  |  NPV: 0.0%   |\n",
            "|                    | FNR: 99.914% |   TNR: 0%    |\n",
            "+--------------------+--------------+--------------+\n",
            "Evaluation predictive rule 4\n",
            "Evaluation counts: {'TN': 0, 'FP': 0, 'FN': 17453, 'TP': 1}\n",
            "+--------------------+--------------+--------------+\n",
            "|                    | Is phishing  | Not phishing |\n",
            "+--------------------+--------------+--------------+\n",
            "| Predicted phishing |    TP: 1     |    FP: 0     |\n",
            "|                    | PPV: 100.0%  |  FDR: 0.0%   |\n",
            "|                    | TPR: 0.006%  |   FPR: 0%    |\n",
            "|   Predicted safe   |  FN: 17453   |    TN: 0     |\n",
            "|                    | FOR: 100.0%  |  NPV: 0.0%   |\n",
            "|                    | FNR: 99.994% |   TNR: 0%    |\n",
            "+--------------------+--------------+--------------+\n",
            "Evaluation predictive rule 5\n",
            "Evaluation counts: {'TN': 0, 'FP': 0, 'FN': 17454, 'TP': 0}\n",
            "+--------------------+-------------+--------------+\n",
            "|                    | Is phishing | Not phishing |\n",
            "+--------------------+-------------+--------------+\n",
            "| Predicted phishing |    TP: 0    |    FP: 0     |\n",
            "|                    |   PPV: 0%   |   FDR: 0%    |\n",
            "|                    |  TPR: 0.0%  |   FPR: 0%    |\n",
            "|   Predicted safe   |  FN: 17454  |    TN: 0     |\n",
            "|                    | FOR: 100.0% |  NPV: 0.0%   |\n",
            "|                    | FNR: 100.0% |   TNR: 0%    |\n",
            "+--------------------+-------------+--------------+\n",
            "Evaluation predictive rule 6\n",
            "Evaluation counts: {'TN': 0, 'FP': 0, 'FN': 17435, 'TP': 19}\n",
            "+--------------------+--------------+--------------+\n",
            "|                    | Is phishing  | Not phishing |\n",
            "+--------------------+--------------+--------------+\n",
            "| Predicted phishing |    TP: 19    |    FP: 0     |\n",
            "|                    | PPV: 100.0%  |  FDR: 0.0%   |\n",
            "|                    | TPR: 0.109%  |   FPR: 0%    |\n",
            "|   Predicted safe   |  FN: 17435   |    TN: 0     |\n",
            "|                    | FOR: 100.0%  |  NPV: 0.0%   |\n",
            "|                    | FNR: 99.891% |   TNR: 0%    |\n",
            "+--------------------+--------------+--------------+\n",
            "Evaluation predictive rule 7\n",
            "Evaluation counts: {'TN': 0, 'FP': 0, 'FN': 15894, 'TP': 1560}\n",
            "+--------------------+--------------+--------------+\n",
            "|                    | Is phishing  | Not phishing |\n",
            "+--------------------+--------------+--------------+\n",
            "| Predicted phishing |   TP: 1560   |    FP: 0     |\n",
            "|                    | PPV: 100.0%  |  FDR: 0.0%   |\n",
            "|                    | TPR: 8.938%  |   FPR: 0%    |\n",
            "|   Predicted safe   |  FN: 15894   |    TN: 0     |\n",
            "|                    | FOR: 100.0%  |  NPV: 0.0%   |\n",
            "|                    | FNR: 91.062% |   TNR: 0%    |\n",
            "+--------------------+--------------+--------------+\n"
          ],
          "name": "stdout"
        }
      ]
    },
    {
      "cell_type": "code",
      "metadata": {
        "id": "ae-nk9qq3cBR",
        "outputId": "fbb33ec3-6f3a-4d89-dbea-eba449c25b52",
        "colab": {
          "base_uri": "https://localhost:8080/",
          "height": 221
        }
      },
      "source": [
        "combined_evaluation = np.max([evaluation_rule_3, evaluation_rule_4, evaluation_rule_5, evaluation_rule_6, evaluation_predictive_rule_2, evaluation_predictive_rule_4, evaluation_predictive_rule_5, evaluation_predictive_rule_6, evaluation_predictive_rule_7], axis = 0)\n",
        "print(\"combined_evaluation of apriori rules 3, 4, 5, 6 and predictive apriori rule 2, 4, 5, 6, 7\")\n",
        "statistics_table_printer(combined_evaluation, [1]*len(combined_evaluation))"
      ],
      "execution_count": 22,
      "outputs": [
        {
          "output_type": "stream",
          "text": [
            "combined_evaluation of apriori rules 3, 4, 5, 6 and predictive apriori rule 2, 4, 5, 6, 7\n",
            "Evaluation counts: {'TN': 0, 'FP': 0, 'FN': 14118, 'TP': 3336}\n",
            "+--------------------+--------------+--------------+\n",
            "|                    | Is phishing  | Not phishing |\n",
            "+--------------------+--------------+--------------+\n",
            "| Predicted phishing |   TP: 3336   |    FP: 0     |\n",
            "|                    | PPV: 100.0%  |  FDR: 0.0%   |\n",
            "|                    | TPR: 19.113% |   FPR: 0%    |\n",
            "|   Predicted safe   |  FN: 14118   |    TN: 0     |\n",
            "|                    | FOR: 100.0%  |  NPV: 0.0%   |\n",
            "|                    | FNR: 80.887% |   TNR: 0%    |\n",
            "+--------------------+--------------+--------------+\n"
          ],
          "name": "stdout"
        }
      ]
    },
    {
      "cell_type": "markdown",
      "metadata": {
        "id": "jBWOdc2LAP6F"
      },
      "source": [
        "\n",
        "\n",
        "---\n",
        "# AI Prediction with whitelisted data.\n"
      ]
    },
    {
      "cell_type": "code",
      "metadata": {
        "id": "omsQA1G590-V",
        "outputId": "f13bced8-bae5-400f-db97-2215c6ab28af",
        "colab": {
          "base_uri": "https://localhost:8080/",
          "height": 136
        }
      },
      "source": [
        "random_seed = 15\n",
        "oversampling_rate = 1 # Set this to 1 to have the positive samples match the phishing samples. Set to greater than 1 to use more negative samples.\n",
        "np.random.seed(random_seed)\n",
        "\n",
        "phishing_domains = online_valid_df_without_intersection[\"domain_names\"].values\n",
        "whitelist_domains = np.random.choice(alexa_whitelist_df_without_intersection[\"domain_names\"].values, size=int(oversampling_rate*len(phishing_domains)), replace=False)\n",
        "\n",
        "# Calling a phishing url 1 and a benign url 0.\n",
        "# Using character encoding as the vocabulary.\n",
        "# Feeding the url as the sequence.\n",
        "\n",
        "print()\n",
        "print(\"Selected Data Examples:\")\n",
        "print(\"Phishing domains:\", phishing_domains, len(phishing_domains))\n",
        "print(\"Benign domains:\", whitelist_domains, len(whitelist_domains))\n",
        "\n",
        "# Creating the samples array and the label array\n",
        "print()\n",
        "X = list(phishing_domains) + list(whitelist_domains)\n",
        "y = [1]*len(phishing_domains) + [0]*len(whitelist_domains)\n",
        "sample_weights = [1]*len(phishing_domains) + [1/oversampling_rate]*len(whitelist_domains)"
      ],
      "execution_count": 12,
      "outputs": [
        {
          "output_type": "stream",
          "text": [
            "\n",
            "Selected Data Examples:\n",
            "Phishing domains: ['mise-a-jour-orange7.webnode.com.co' 'rubysoap.hk' 'rubysoap.hk' ...\n",
            " 'ffqyw.com' 'smcc-cacc.smdboc.top' 'vozyvisionradio.com'] 17454\n",
            "Benign domains: ['mt.com.gccdn.net' 'img-d01.moneycontrol.co.in' 'merlin-business.com' ...\n",
            " 'cdn.video.abc.com' 'cefetmg.br' 'linier.rctiplus.id'] 17454\n",
            "\n"
          ],
          "name": "stdout"
        }
      ]
    },
    {
      "cell_type": "code",
      "metadata": {
        "id": "LRVkm7WVA8x1",
        "outputId": "32e3ac29-459c-420b-d6ce-aea9184eb56f",
        "colab": {
          "base_uri": "https://localhost:8080/",
          "height": 156
        }
      },
      "source": [
        "# Vocabulary generation for the character encoding used in neural network.\n",
        "vocab = sorted(set(\"\".join(X)), reverse=True)\n",
        "# Inserting a space at index 0, since it is not used in url and will be used for padding the examples.\n",
        "vocab.insert(0, \" \")\n",
        "vocab_size = len(vocab)\n",
        "\n",
        "print()\n",
        "print(f\"Encoding Vocabulary ({vocab_size}) used:\")\n",
        "print(vocab)\n",
        "# Creating a mapping from unique characters to indices\n",
        "char2idx = {u:i for i, u in enumerate(vocab)}\n",
        "idx2char = np.array(vocab)\n",
        "\n",
        "def text_to_int(text):\n",
        "  return np.array([char2idx[c] for c in text])\n",
        "\n",
        "print(\"Encoding example:\")\n",
        "print(text_to_int(phishing_domains[0]))\n",
        "\n",
        "def int_to_text(ints):\n",
        "  try:\n",
        "    ints = ints.numpy()\n",
        "  except:\n",
        "    pass\n",
        "  return ''.join(idx2char[ints])\n",
        "\n",
        "print(int_to_text(text_to_int(phishing_domains[0])))"
      ],
      "execution_count": 13,
      "outputs": [
        {
          "output_type": "stream",
          "text": [
            "\n",
            "Encoding Vocabulary (73) used:\n",
            "[' ', 'z', 'y', 'x', 'w', 'v', 'u', 't', 's', 'r', 'q', 'p', 'o', 'n', 'm', 'l', 'k', 'j', 'i', 'h', 'g', 'f', 'e', 'd', 'c', 'b', 'a', '_', 'Z', 'Y', 'X', 'W', 'V', 'U', 'T', 'S', 'R', 'Q', 'P', 'O', 'N', 'M', 'L', 'K', 'J', 'I', 'H', 'G', 'F', 'E', 'D', 'C', 'B', 'A', '@', '?', '=', ';', ':', '9', '8', '7', '6', '5', '4', '3', '2', '1', '0', '.', '-', '&', '#']\n",
            "Encoding example:\n",
            "[14 18  8 22 70 26 70 17 12  6  9 70 12  9 26 13 20 22 61 69  4 22 25 13\n",
            " 12 23 22 69 24 12 14 69 24 12]\n",
            "mise-a-jour-orange7.webnode.com.co\n"
          ],
          "name": "stdout"
        }
      ]
    },
    {
      "cell_type": "code",
      "metadata": {
        "id": "HNn5djtNBTGe",
        "outputId": "4d2c0a41-036f-4d6d-d6be-f014bfcc8a23",
        "colab": {
          "base_uri": "https://localhost:8080/",
          "height": 68
        }
      },
      "source": [
        "# Investigating the domain name length for the combined domain names:\n",
        "X_elem_len = [len(domain_name) for domain_name in X]\n",
        "print(\"Longest domain name:\", np.max(X_elem_len))\n",
        "\n",
        "print(sorted(X_elem_len, reverse=True)[:show_top_n])\n",
        "# Only 10 urls are longer than 100 characters. So going with that for sequence length.\n",
        "max_seq_len = 50\n",
        "print((np.array(X_elem_len) > max_seq_len).sum(), \"URLs longer than the cutoff length\", max_seq_len)"
      ],
      "execution_count": 14,
      "outputs": [
        {
          "output_type": "stream",
          "text": [
            "Longest domain name: 926\n",
            "[926, 253, 179, 150, 150, 150, 122, 113, 113, 111, 108, 105, 104, 102, 102]\n",
            "1637 URLs longer than the cutoff length 50\n"
          ],
          "name": "stdout"
        }
      ]
    },
    {
      "cell_type": "code",
      "metadata": {
        "id": "WPjotGE3Bf4O",
        "outputId": "a76fdcc4-3ffa-4b6d-af71-72496f9da419",
        "colab": {
          "base_uri": "https://localhost:8080/",
          "height": 952
        }
      },
      "source": [
        "# Creating test and training datasets\n",
        "print()\n",
        "X_train, X_test, y_train, y_test, sample_weights_train, sample_weights_test = train_test_split(np.array(X), np.array(y), np.array(sample_weights), test_size=0.15, random_state=random_seed)\n",
        "\n",
        "show_top_n = 5\n",
        "print(f\"Training and testing data: (showing first {show_top_n})\")\n",
        "print(f\"Train data {len(X_train)} samples\")\n",
        "print(list(zip(X_train[:show_top_n], y_train[:show_top_n], sample_weights_train[:show_top_n])))\n",
        "print(f\"Test data {len(X_test)} samples\")\n",
        "print(list(zip(X_test[:show_top_n], y_test[:show_top_n], sample_weights_test[:show_top_n])))\n",
        "\n",
        "# Encoding the domain names using the vocabulary\n",
        "\n",
        "X_train_encoded = [text_to_int(domain_name) for domain_name in X_train]\n",
        "X_test_encoded = [text_to_int(domain_name) for domain_name in X_test]\n",
        "print()\n",
        "print(f\"Encoded data: (showing first {show_top_n})\")\n",
        "print(f\"Train data {len(X_train_encoded)} samples, encoded\")\n",
        "print(list(zip(X_train_encoded[:show_top_n], y_train[:show_top_n])))\n",
        "print(f\"Test data {len(X_test_encoded)} samples, encoded\")\n",
        "print(list(zip(X_test_encoded[:show_top_n], y_test[:show_top_n])))\n",
        "\n",
        "# Padding to the right sequence length.\n",
        "X_train_encoded_padded = sequence.pad_sequences(X_train_encoded, max_seq_len)\n",
        "X_test_encoded_padded = sequence.pad_sequences(X_test_encoded, max_seq_len)\n",
        "print()\n",
        "print(f\"Encoded and padded data: (showing first {show_top_n})\")\n",
        "print(f\"Train data {len(X_train_encoded_padded)} samples, encoded\")\n",
        "print(list(zip(X_train_encoded_padded[:show_top_n], y_train[:show_top_n])))\n",
        "print(f\"Test data {len(X_test_encoded_padded)} samples, encoded\")\n",
        "print(list(zip(X_test_encoded_padded[:show_top_n], y_test[:show_top_n])))"
      ],
      "execution_count": 15,
      "outputs": [
        {
          "output_type": "stream",
          "text": [
            "\n",
            "Training and testing data: (showing first 5)\n",
            "Train data 29671 samples\n",
            "[('txxtxx.cn', 0, 1.0), ('valleyobgynassociates.com', 1, 1.0), ('centralusr-notifyp.svc.ms', 0, 1.0), ('dahe.cn', 0, 1.0), ('cm16ps01.ohsum01.ohsu.edu', 0, 1.0)]\n",
            "Test data 5237 samples\n",
            "[('cp1sawprxngp04d.saw.msft.net', 0, 1.0), ('ekspert-kujawy.pl', 0, 1.0), ('4980338.fls.doubleclick.net', 0, 1.0), ('ticsoetangspar1936.blogspot.bg', 1, 1.0), ('centromusicalpaternense.es', 1, 1.0)]\n",
            "\n",
            "Encoded data: (showing first 5)\n",
            "Train data 29671 samples, encoded\n",
            "[(array([ 7,  3,  3,  7,  3,  3, 69, 24, 13]), 0), (array([ 5, 26, 15, 15, 22,  2, 12, 25, 20,  2, 13, 26,  8,  8, 12, 24, 18,\n",
            "       26,  7, 22,  8, 69, 24, 12, 14]), 1), (array([24, 22, 13,  7,  9, 26, 15,  6,  8,  9, 70, 13, 12,  7, 18, 21,  2,\n",
            "       11, 69,  8,  5, 24, 69, 14,  8]), 0), (array([23, 26, 19, 22, 69, 24, 13]), 0), (array([24, 14, 67, 62, 11,  8, 68, 67, 69, 12, 19,  8,  6, 14, 68, 67, 69,\n",
            "       12, 19,  8,  6, 69, 22, 23,  6]), 0)]\n",
            "Test data 5237 samples, encoded\n",
            "[(array([24, 11, 67,  8, 26,  4, 11,  9,  3, 13, 20, 11, 68, 64, 23, 69,  8,\n",
            "       26,  4, 69, 14,  8, 21,  7, 69, 13, 22,  7]), 0), (array([22, 16,  8, 11, 22,  9,  7, 70, 16,  6, 17, 26,  4,  2, 69, 11, 15]), 0), (array([64, 59, 60, 68, 65, 65, 60, 69, 21, 15,  8, 69, 23, 12,  6, 25, 15,\n",
            "       22, 24, 15, 18, 24, 16, 69, 13, 22,  7]), 0), (array([ 7, 18, 24,  8, 12, 22,  7, 26, 13, 20,  8, 11, 26,  9, 67, 59, 65,\n",
            "       62, 69, 25, 15, 12, 20,  8, 11, 12,  7, 69, 25, 20]), 1), (array([24, 22, 13,  7,  9, 12, 14,  6,  8, 18, 24, 26, 15, 11, 26,  7, 22,\n",
            "        9, 13, 22, 13,  8, 22, 69, 22,  8]), 1)]\n",
            "\n",
            "Encoded and padded data: (showing first 5)\n",
            "Train data 29671 samples, encoded\n",
            "[(array([ 0,  0,  0,  0,  0,  0,  0,  0,  0,  0,  0,  0,  0,  0,  0,  0,  0,\n",
            "        0,  0,  0,  0,  0,  0,  0,  0,  0,  0,  0,  0,  0,  0,  0,  0,  0,\n",
            "        0,  0,  0,  0,  0,  0,  0,  7,  3,  3,  7,  3,  3, 69, 24, 13],\n",
            "      dtype=int32), 0), (array([ 0,  0,  0,  0,  0,  0,  0,  0,  0,  0,  0,  0,  0,  0,  0,  0,  0,\n",
            "        0,  0,  0,  0,  0,  0,  0,  0,  5, 26, 15, 15, 22,  2, 12, 25, 20,\n",
            "        2, 13, 26,  8,  8, 12, 24, 18, 26,  7, 22,  8, 69, 24, 12, 14],\n",
            "      dtype=int32), 1), (array([ 0,  0,  0,  0,  0,  0,  0,  0,  0,  0,  0,  0,  0,  0,  0,  0,  0,\n",
            "        0,  0,  0,  0,  0,  0,  0,  0, 24, 22, 13,  7,  9, 26, 15,  6,  8,\n",
            "        9, 70, 13, 12,  7, 18, 21,  2, 11, 69,  8,  5, 24, 69, 14,  8],\n",
            "      dtype=int32), 0), (array([ 0,  0,  0,  0,  0,  0,  0,  0,  0,  0,  0,  0,  0,  0,  0,  0,  0,\n",
            "        0,  0,  0,  0,  0,  0,  0,  0,  0,  0,  0,  0,  0,  0,  0,  0,  0,\n",
            "        0,  0,  0,  0,  0,  0,  0,  0,  0, 23, 26, 19, 22, 69, 24, 13],\n",
            "      dtype=int32), 0), (array([ 0,  0,  0,  0,  0,  0,  0,  0,  0,  0,  0,  0,  0,  0,  0,  0,  0,\n",
            "        0,  0,  0,  0,  0,  0,  0,  0, 24, 14, 67, 62, 11,  8, 68, 67, 69,\n",
            "       12, 19,  8,  6, 14, 68, 67, 69, 12, 19,  8,  6, 69, 22, 23,  6],\n",
            "      dtype=int32), 0)]\n",
            "Test data 5237 samples, encoded\n",
            "[(array([ 0,  0,  0,  0,  0,  0,  0,  0,  0,  0,  0,  0,  0,  0,  0,  0,  0,\n",
            "        0,  0,  0,  0,  0, 24, 11, 67,  8, 26,  4, 11,  9,  3, 13, 20, 11,\n",
            "       68, 64, 23, 69,  8, 26,  4, 69, 14,  8, 21,  7, 69, 13, 22,  7],\n",
            "      dtype=int32), 0), (array([ 0,  0,  0,  0,  0,  0,  0,  0,  0,  0,  0,  0,  0,  0,  0,  0,  0,\n",
            "        0,  0,  0,  0,  0,  0,  0,  0,  0,  0,  0,  0,  0,  0,  0,  0, 22,\n",
            "       16,  8, 11, 22,  9,  7, 70, 16,  6, 17, 26,  4,  2, 69, 11, 15],\n",
            "      dtype=int32), 0), (array([ 0,  0,  0,  0,  0,  0,  0,  0,  0,  0,  0,  0,  0,  0,  0,  0,  0,\n",
            "        0,  0,  0,  0,  0,  0, 64, 59, 60, 68, 65, 65, 60, 69, 21, 15,  8,\n",
            "       69, 23, 12,  6, 25, 15, 22, 24, 15, 18, 24, 16, 69, 13, 22,  7],\n",
            "      dtype=int32), 0), (array([ 0,  0,  0,  0,  0,  0,  0,  0,  0,  0,  0,  0,  0,  0,  0,  0,  0,\n",
            "        0,  0,  0,  7, 18, 24,  8, 12, 22,  7, 26, 13, 20,  8, 11, 26,  9,\n",
            "       67, 59, 65, 62, 69, 25, 15, 12, 20,  8, 11, 12,  7, 69, 25, 20],\n",
            "      dtype=int32), 1), (array([ 0,  0,  0,  0,  0,  0,  0,  0,  0,  0,  0,  0,  0,  0,  0,  0,  0,\n",
            "        0,  0,  0,  0,  0,  0,  0, 24, 22, 13,  7,  9, 12, 14,  6,  8, 18,\n",
            "       24, 26, 15, 11, 26,  7, 22,  9, 13, 22, 13,  8, 22, 69, 22,  8],\n",
            "      dtype=int32), 1)]\n"
          ],
          "name": "stdout"
        }
      ]
    },
    {
      "cell_type": "markdown",
      "metadata": {
        "id": "GsoVdZMzCcsK"
      },
      "source": [
        "\n",
        "\n",
        "---\n",
        "\n",
        "# Testing rule predictive apriory for false positives"
      ]
    },
    {
      "cell_type": "code",
      "metadata": {
        "id": "8cGlscTCCh5O",
        "outputId": "d294eeec-ffc6-4672-b403-71727b41c759",
        "colab": {
          "base_uri": "https://localhost:8080/",
          "height": 221
        }
      },
      "source": [
        "evaluation_predictive_rule_7 = []\n",
        "\n",
        "for domain_name in X_test:\n",
        "  evaluation_predictive_rule_7.append(predictive_apriori_rule_7(\"\", domain_name))\n",
        "\n",
        "print(\"Evaluation predictive rule 7\")\n",
        "statistics_table_printer(evaluation_predictive_rule_7, y_test)"
      ],
      "execution_count": 23,
      "outputs": [
        {
          "output_type": "stream",
          "text": [
            "Evaluation predictive rule 7\n",
            "Evaluation counts: {'TN': 2504, 'FP': 106, 'FN': 2396, 'TP': 231}\n",
            "+--------------------+--------------+--------------+\n",
            "|                    | Is phishing  | Not phishing |\n",
            "+--------------------+--------------+--------------+\n",
            "| Predicted phishing |   TP: 231    |   FP: 106    |\n",
            "|                    | PPV: 68.546% | FDR: 31.454% |\n",
            "|                    | TPR: 8.793%  | FPR: 4.061%  |\n",
            "|   Predicted safe   |   FN: 2396   |   TN: 2504   |\n",
            "|                    | FOR: 48.898% | NPV: 51.102% |\n",
            "|                    | FNR: 91.207% | TNR: 95.939% |\n",
            "+--------------------+--------------+--------------+\n"
          ],
          "name": "stdout"
        }
      ]
    },
    {
      "cell_type": "markdown",
      "metadata": {
        "id": "GwBVW5oVCZQh"
      },
      "source": [
        "\n",
        "\n",
        "---\n",
        "\n",
        "# Running the Neural Network"
      ]
    },
    {
      "cell_type": "code",
      "metadata": {
        "id": "5W4fA7nZCPt2"
      },
      "source": [
        "#Evaluating the model\n",
        "def evaluate_nn_model(X, y, threshold=0.5):\n",
        "    \"\"\"\n",
        "    Custom nn evaluation to get the TP, TN, FP, FN rates.\n",
        "    Anything below threshold is considered not phishing.\n",
        "    Anything above threshold is considered phishing.\n",
        "\n",
        "    \"\"\"\n",
        "    print()\n",
        "    predictions = model.predict(X_test_encoded_padded).flatten()\n",
        "    mean_prediction = np.mean(predictions)\n",
        "    print(f\"Calculated {len(predictions)} predictions with a mean value of {mean_prediction}\")\n",
        "    print(f\"Evaluating using threshold {threshold}\")\n",
        "    # Turning the predictions into 0 and 1 by checking the threshold. (0 safe, 1 phishing)\n",
        "    predictions_boolean = predictions > threshold\n",
        "    predictions_binary = predictions_boolean.astype(np.int)\n",
        "    print(f\"Cut-off threshold: {np.round(threshold, decimals=4)}\")\n",
        "    statistics_table_printer(predictions_binary, y)\n",
        "    return mean_prediction"
      ],
      "execution_count": 17,
      "outputs": []
    },
    {
      "cell_type": "code",
      "metadata": {
        "id": "sEqAZcLOCJgQ",
        "outputId": "0dd88ed0-90d9-4979-b82f-0fadcf770dfd",
        "colab": {
          "base_uri": "https://localhost:8080/",
          "height": 731
        }
      },
      "source": [
        "# Creating the recurrent model for the predictions:\n",
        "print(\"\\n---------------Tensorflow magic------------------\\n\")\n",
        "# print(tf.config.list_physical_devices('GPU'))\n",
        "# For some reason needed so the code runs properly on the gpu.\n",
        "gpus = tf.config.experimental.list_physical_devices('GPU')\n",
        "for gpu in gpus:\n",
        "    print('gpu', gpu)\n",
        "    tf.config.experimental.set_memory_growth(gpu, True)\n",
        "    print('memory growth:' , tf.config.experimental.get_memory_growth(gpu))\n",
        "\n",
        "# https://www.tensorflow.org/api_docs/python/tf/keras/layers/LSTM\n",
        "model = tf.keras.Sequential([\n",
        "    tf.keras.layers.Embedding(vocab_size, 64),\n",
        "    # tf.keras.layers.LSTM(512, return_sequences=True),\n",
        "    tf.keras.layers.LSTM(512),\n",
        "    # tf.keras.layers.LSTM(128, go_backwards=True),\n",
        "    # tf.keras.layers.Dense(512),\n",
        "    # tf.keras.layers.Dense(128,activation=\"tanh\"),\n",
        "    # tf.keras.layers.Dense(128),\n",
        "    tf.keras.layers.Dense(512,activation=\"tanh\"),\n",
        "    # tf.keras.layers.Dense(512,activation=\"tanh\"),\n",
        "    # tf.keras.layers.Dense(512,activation=\"tanh\"),\n",
        "    # tf.keras.layers.Dense(512,activation=\"tanh\"),\n",
        "    # tf.keras.layers.Dense(32,activation=\"sigmoid\"),\n",
        "    # tf.keras.layers.Dense(32),\n",
        "    # tf.keras.layers.Dense(16),\n",
        "    tf.keras.layers.Dense(1, activation=\"sigmoid\")\n",
        "])\n",
        "\n",
        "\n",
        "# Compiling the model\n",
        "model.compile(loss=\"binary_crossentropy\", optimizer=\"adam\", metrics=['acc'])\n",
        "print(model.summary())\n",
        "\n",
        "# Training the model\n",
        "history = model.fit(X_train_encoded_padded, y_train, epochs=10, validation_data=(X_test_encoded_padded, y_test), sample_weight=sample_weights_train)"
      ],
      "execution_count": 18,
      "outputs": [
        {
          "output_type": "stream",
          "text": [
            "\n",
            "---------------Tensorflow magic------------------\n",
            "\n",
            "gpu PhysicalDevice(name='/physical_device:GPU:0', device_type='GPU')\n",
            "memory growth: True\n",
            "Model: \"sequential\"\n",
            "_________________________________________________________________\n",
            "Layer (type)                 Output Shape              Param #   \n",
            "=================================================================\n",
            "embedding (Embedding)        (None, None, 64)          4672      \n",
            "_________________________________________________________________\n",
            "lstm (LSTM)                  (None, 512)               1181696   \n",
            "_________________________________________________________________\n",
            "dense (Dense)                (None, 512)               262656    \n",
            "_________________________________________________________________\n",
            "dense_1 (Dense)              (None, 1)                 513       \n",
            "=================================================================\n",
            "Total params: 1,449,537\n",
            "Trainable params: 1,449,537\n",
            "Non-trainable params: 0\n",
            "_________________________________________________________________\n",
            "None\n",
            "Epoch 1/10\n",
            "928/928 [==============================] - 14s 15ms/step - loss: 0.5387 - acc: 0.7222 - val_loss: 0.4899 - val_acc: 0.7455\n",
            "Epoch 2/10\n",
            "928/928 [==============================] - 13s 14ms/step - loss: 0.4573 - acc: 0.7739 - val_loss: 0.4332 - val_acc: 0.7921\n",
            "Epoch 3/10\n",
            "928/928 [==============================] - 13s 15ms/step - loss: 0.4288 - acc: 0.7913 - val_loss: 0.4274 - val_acc: 0.7890\n",
            "Epoch 4/10\n",
            "928/928 [==============================] - 14s 15ms/step - loss: 0.4114 - acc: 0.7991 - val_loss: 0.4032 - val_acc: 0.8050\n",
            "Epoch 5/10\n",
            "928/928 [==============================] - 14s 15ms/step - loss: 0.3903 - acc: 0.8136 - val_loss: 0.3929 - val_acc: 0.8102\n",
            "Epoch 6/10\n",
            "928/928 [==============================] - 14s 15ms/step - loss: 0.3671 - acc: 0.8279 - val_loss: 0.3744 - val_acc: 0.8239\n",
            "Epoch 7/10\n",
            "928/928 [==============================] - 14s 15ms/step - loss: 0.3460 - acc: 0.8388 - val_loss: 0.3511 - val_acc: 0.8335\n",
            "Epoch 8/10\n",
            "928/928 [==============================] - 14s 15ms/step - loss: 0.3132 - acc: 0.8562 - val_loss: 0.3421 - val_acc: 0.8457\n",
            "Epoch 9/10\n",
            "928/928 [==============================] - 14s 15ms/step - loss: 0.2776 - acc: 0.8743 - val_loss: 0.3458 - val_acc: 0.8463\n",
            "Epoch 10/10\n",
            "928/928 [==============================] - 14s 15ms/step - loss: 0.2375 - acc: 0.8958 - val_loss: 0.3310 - val_acc: 0.8577\n"
          ],
          "name": "stdout"
        }
      ]
    },
    {
      "cell_type": "code",
      "metadata": {
        "id": "BdKrH_iXCPTW",
        "outputId": "b48eacaf-baab-4a4a-a842-c2736b9e1a7c",
        "colab": {
          "base_uri": "https://localhost:8080/",
          "height": 1000
        }
      },
      "source": [
        "# Some custom evaluation\n",
        "mean_prediction = evaluate_nn_model(X_test_encoded_padded, y_test, threshold=0.5)\n",
        "mean_prediction = evaluate_nn_model(X_test_encoded_padded, y_test, threshold=mean_prediction)\n",
        "evaluate_nn_model(X_test_encoded_padded, y_test, threshold=1-(1/(oversampling_rate+1)))\n",
        "\n",
        "\n",
        "# Making a prediction on a url using the model:\n",
        "print()\n",
        "show_top_n = 10\n",
        "print(f\"Predicting the first {show_top_n} examples from the test data:\")\n",
        "\n",
        "first_n_predictions = model.predict(X_test_encoded_padded[:show_top_n])\n",
        "print(first_n_predictions.flatten())\n",
        "\n",
        "prediction_df = pd.DataFrame(data={\"domain_names\": X_test[:show_top_n], \"predictions\": first_n_predictions.flatten(), \"truth\": y_test[:show_top_n]})\n",
        "print(prediction_df)\n",
        "\n",
        "def predict_url(url):\n",
        "    encoded_text = sequence.pad_sequences([text_to_int(url)], max_seq_len)\n",
        "    result = model.predict(encoded_text) \n",
        "    print(\"Prediction on url:\", url, result[0][0])\n",
        "\n",
        "print(\"\\nPhishing ULR examples:\")\n",
        "predict_url(\"frgcxtmjzfjpdcusge.top\")\n",
        "predict_url(\"evilmadeupurl.phish\")\n",
        "predict_url(\"evil.madeupurl.phish\")\n",
        "\n",
        "\n",
        "print(\"\\nSafe URL examples:\")\n",
        "predict_url(\"sharelatex.cryptobro.eu\")\n",
        "predict_url(\"sharelatex.cryptobro.eu:5000\")\n",
        "\n",
        "predict_url(\"google.com\")\n",
        "predict_url(\"www.google.com\")\n",
        "predict_url(\"gmail.google.com\")\n",
        "predict_url(\"mail.google.com\")\n",
        "\n",
        "predict_url(\"tudelft.nl\")\n",
        "\n",
        "predict_url(\"brightspace.tudelft.nl\")\n",
        "\n",
        "predict_url(\"colab.research.google.com\")\n",
        "\n",
        "predict_url(\"00-gayrettepe-t3-8---00-gayrettepe-xrs-t2-1.statik.turktelekom.com.tr\")"
      ],
      "execution_count": 24,
      "outputs": [
        {
          "output_type": "stream",
          "text": [
            "\n",
            "Calculated 5237 predictions with a mean value of 0.5333784818649292\n",
            "Evaluating using threshold 0.5\n",
            "Cut-off threshold: 0.5\n",
            "Evaluation counts: {'TN': 2114, 'FP': 496, 'FN': 249, 'TP': 2378}\n",
            "+--------------------+--------------+--------------+\n",
            "|                    | Is phishing  | Not phishing |\n",
            "+--------------------+--------------+--------------+\n",
            "| Predicted phishing |   TP: 2378   |   FP: 496    |\n",
            "|                    | PPV: 82.742% | FDR: 17.258% |\n",
            "|                    | TPR: 90.522% | FPR: 19.004% |\n",
            "|   Predicted safe   |   FN: 249    |   TN: 2114   |\n",
            "|                    | FOR: 10.537% | NPV: 89.463% |\n",
            "|                    | FNR: 9.478%  | TNR: 80.996% |\n",
            "+--------------------+--------------+--------------+\n",
            "\n",
            "Calculated 5237 predictions with a mean value of 0.5333784818649292\n",
            "Evaluating using threshold 0.5333784818649292\n",
            "Cut-off threshold: 0.5333999991416931\n",
            "Evaluation counts: {'TN': 2146, 'FP': 464, 'FN': 269, 'TP': 2358}\n",
            "+--------------------+--------------+--------------+\n",
            "|                    | Is phishing  | Not phishing |\n",
            "+--------------------+--------------+--------------+\n",
            "| Predicted phishing |   TP: 2358   |   FP: 464    |\n",
            "|                    | PPV: 83.558% | FDR: 16.442% |\n",
            "|                    | TPR: 89.76%  | FPR: 17.778% |\n",
            "|   Predicted safe   |   FN: 269    |   TN: 2146   |\n",
            "|                    | FOR: 11.139% | NPV: 88.861% |\n",
            "|                    | FNR: 10.24%  | TNR: 82.222% |\n",
            "+--------------------+--------------+--------------+\n",
            "\n",
            "Calculated 5237 predictions with a mean value of 0.5333784818649292\n",
            "Evaluating using threshold 0.5\n",
            "Cut-off threshold: 0.5\n",
            "Evaluation counts: {'TN': 2114, 'FP': 496, 'FN': 249, 'TP': 2378}\n",
            "+--------------------+--------------+--------------+\n",
            "|                    | Is phishing  | Not phishing |\n",
            "+--------------------+--------------+--------------+\n",
            "| Predicted phishing |   TP: 2378   |   FP: 496    |\n",
            "|                    | PPV: 82.742% | FDR: 17.258% |\n",
            "|                    | TPR: 90.522% | FPR: 19.004% |\n",
            "|   Predicted safe   |   FN: 249    |   TN: 2114   |\n",
            "|                    | FOR: 10.537% | NPV: 89.463% |\n",
            "|                    | FNR: 9.478%  | TNR: 80.996% |\n",
            "+--------------------+--------------+--------------+\n",
            "\n",
            "Predicting the first 10 examples from the test data:\n",
            "[0.00759971 0.84346384 0.01145553 0.99743205 0.89972717 0.92001474\n",
            " 0.9987538  0.9987551  0.00305994 0.27639502]\n",
            "                     domain_names  predictions  truth\n",
            "0    cp1sawprxngp04d.saw.msft.net     0.007600      0\n",
            "1               ekspert-kujawy.pl     0.843464      0\n",
            "2     4980338.fls.doubleclick.net     0.011456      0\n",
            "3  ticsoetangspar1936.blogspot.bg     0.997432      1\n",
            "4      centromusicalpaternense.es     0.899727      1\n",
            "5       mehmetcelalergulec.com.tr     0.920015      1\n",
            "6          betasus26.blogspot.com     0.998754      1\n",
            "7                  67.205.108.141     0.998755      1\n",
            "8              cdn.compareraja.in     0.003060      0\n",
            "9                      sjover.com     0.276395      0\n",
            "\n",
            "Phishing ULR examples:\n",
            "Prediction on url: frgcxtmjzfjpdcusge.top 0.9646447\n",
            "Prediction on url: evilmadeupurl.phish 0.70794195\n",
            "Prediction on url: evil.madeupurl.phish 0.55478495\n",
            "\n",
            "Safe URL examples:\n",
            "Prediction on url: sharelatex.cryptobro.eu 0.9960347\n",
            "Prediction on url: sharelatex.cryptobro.eu:5000 0.99657565\n",
            "Prediction on url: google.com 0.17255841\n",
            "Prediction on url: www.google.com 0.24890245\n",
            "Prediction on url: gmail.google.com 0.0030309875\n",
            "Prediction on url: mail.google.com 0.003315177\n",
            "Prediction on url: tudelft.nl 0.024981957\n",
            "Prediction on url: brightspace.tudelft.nl 0.9435415\n",
            "Prediction on url: colab.research.google.com 0.0031791513\n",
            "Prediction on url: 00-gayrettepe-t3-8---00-gayrettepe-xrs-t2-1.statik.turktelekom.com.tr 0.0016732607\n"
          ],
          "name": "stdout"
        }
      ]
    },
    {
      "cell_type": "code",
      "metadata": {
        "id": "n__8yj-kFjmj",
        "outputId": "ce8eb07a-1687-4983-e35f-bf03ca4338dd",
        "colab": {
          "base_uri": "https://localhost:8080/",
          "height": 272
        }
      },
      "source": [
        "mean_prediction = evaluate_nn_model(X_test_encoded_padded, y_test, threshold=0.65)"
      ],
      "execution_count": 27,
      "outputs": [
        {
          "output_type": "stream",
          "text": [
            "\n",
            "Calculated 5237 predictions with a mean value of 0.5333784818649292\n",
            "Evaluating using threshold 0.65\n",
            "Cut-off threshold: 0.65\n",
            "Evaluation counts: {'TN': 2244, 'FP': 366, 'FN': 376, 'TP': 2251}\n",
            "+--------------------+--------------+--------------+\n",
            "|                    | Is phishing  | Not phishing |\n",
            "+--------------------+--------------+--------------+\n",
            "| Predicted phishing |   TP: 2251   |   FP: 366    |\n",
            "|                    | PPV: 86.015% | FDR: 13.985% |\n",
            "|                    | TPR: 85.687% | FPR: 14.023% |\n",
            "|   Predicted safe   |   FN: 376    |   TN: 2244   |\n",
            "|                    | FOR: 14.351% | NPV: 85.649% |\n",
            "|                    | FNR: 14.313% | TNR: 85.977% |\n",
            "+--------------------+--------------+--------------+\n"
          ],
          "name": "stdout"
        }
      ]
    }
  ]
}